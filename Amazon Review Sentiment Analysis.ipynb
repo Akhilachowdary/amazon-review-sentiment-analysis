{
 "cells": [
  {
   "cell_type": "markdown",
   "metadata": {},
   "source": [
    "# Notebook Imports"
   ]
  },
  {
   "cell_type": "code",
   "execution_count": 1,
   "metadata": {},
   "outputs": [],
   "source": [
    "import pandas as pd\n",
    "import json\n",
    "from sklearn.model_selection import train_test_split\n",
    "from sklearn.feature_extraction.text import CountVectorizer, TfidfVectorizer\n",
    "from sklearn.metrics import precision_recall_curve\n",
    "from sklearn.metrics import f1_score\n",
    "from sklearn.metrics import roc_curve, roc_auc_score\n",
    "from sklearn.model_selection import cross_val_score\n",
    "\n",
    "import matplotlib.pyplot as plt\n",
    "\n",
    "import random"
   ]
  },
  {
   "cell_type": "markdown",
   "metadata": {},
   "source": [
    "# Load Books Review Data"
   ]
  },
  {
   "cell_type": "code",
   "execution_count": 2,
   "metadata": {},
   "outputs": [],
   "source": [
    "file_name = 'C:/Users/Akhila chowdary/My Projects - ML/Amazon Review Sentiment Analysis/Books_small_10000.json'"
   ]
  },
  {
   "cell_type": "markdown",
   "metadata": {},
   "source": [
    "### Creating Data Class"
   ]
  },
  {
   "cell_type": "code",
   "execution_count": 3,
   "metadata": {},
   "outputs": [],
   "source": [
    "## Creating sentiment class\n",
    "class Sentiment:\n",
    "    NEGATIVE = 'NEGATIVE'\n",
    "    POSITIVE = 'POSITIVE'\n",
    "\n",
    "##Creating Review class which extracts review text, review score from each line of the input file\n",
    "class Review:\n",
    "    def __init__(self,text,score):\n",
    "        self.text = text\n",
    "        self.score = score\n",
    "        self.sentiment = self.get_sentiment()\n",
    "        \n",
    "    def get_sentiment(self):\n",
    "        if self.score <=3:\n",
    "            return Sentiment.NEGATIVE\n",
    "        else: #if score is 4 or 5\n",
    "            return Sentiment.POSITIVE\n",
    "        \n",
    "##Creating Review container class which changes score to positive or negative class and also evenly distributes the unbalanced data passed into it\n",
    "class ReviewContainer:\n",
    "    def __init__(self, reviews):\n",
    "        self.reviews = reviews\n",
    "        \n",
    "    def get_text(self):\n",
    "        return [x.text for x in self.reviews]\n",
    "    \n",
    "    def get_sentiment(self):\n",
    "        return [x.sentiment for x in self.reviews]\n",
    "        \n",
    "    def evenly_distribute(self):\n",
    "        negative = list(filter(lambda x: x.sentiment == Sentiment.NEGATIVE, self.reviews))\n",
    "        positive = list(filter(lambda x: x.sentiment == Sentiment.POSITIVE, self.reviews))\n",
    "        positive_shrunk = positive[:len(negative)]\n",
    "        self.reviews = negative + positive_shrunk\n",
    "        random.shuffle(self.reviews)\n",
    "        \n",
    "        \n",
    "        "
   ]
  },
  {
   "cell_type": "code",
   "execution_count": 4,
   "metadata": {},
   "outputs": [],
   "source": [
    "## Creating 'reviews' list to hold the values of review text and Overall score\n",
    "reviews = []\n",
    "\n",
    "with open(file_name) as f:\n",
    "    for line in f:\n",
    "        review = json.loads(line)\n",
    "        reviews.append(Review(review['reviewText'],review['overall']))"
   ]
  },
  {
   "cell_type": "code",
   "execution_count": 5,
   "metadata": {},
   "outputs": [
    {
     "data": {
      "text/plain": [
       "'POSITIVE'"
      ]
     },
     "execution_count": 5,
     "metadata": {},
     "output_type": "execute_result"
    }
   ],
   "source": [
    "reviews[5].sentiment"
   ]
  },
  {
   "cell_type": "code",
   "execution_count": 6,
   "metadata": {},
   "outputs": [
    {
     "data": {
      "text/plain": [
       "10000"
      ]
     },
     "execution_count": 6,
     "metadata": {},
     "output_type": "execute_result"
    }
   ],
   "source": [
    "len(reviews)"
   ]
  },
  {
   "cell_type": "markdown",
   "metadata": {},
   "source": [
    "# Prep Data"
   ]
  },
  {
   "cell_type": "code",
   "execution_count": 7,
   "metadata": {},
   "outputs": [
    {
     "name": "stdout",
     "output_type": "stream",
     "text": [
      "Training split of unbalanced dataset: 6700\n",
      "Training split of unbalanced dataset: 3300\n"
     ]
    }
   ],
   "source": [
    "##splitting training and testing data for classification model\n",
    "train,test = train_test_split(reviews,test_size=0.33, random_state=42)\n",
    "\n",
    "train_unb_cont = ReviewContainer(train)\n",
    "test_unb_cont = ReviewContainer(test)\n",
    "\n",
    "print('Training split of unbalanced dataset:', len(train_unb_cont.reviews))\n",
    "print('Training split of unbalanced dataset:', len(test_unb_cont.reviews))"
   ]
  },
  {
   "cell_type": "code",
   "execution_count": 8,
   "metadata": {},
   "outputs": [
    {
     "name": "stdout",
     "output_type": "stream",
     "text": [
      "Training split of evenly distributed dataset: 2178\n",
      "Training split of evenly distributed dataset: 1066\n"
     ]
    }
   ],
   "source": [
    "##splitting training and testing data from balanced data (equal number of postives and negatives)\n",
    "train,test = train_test_split(reviews,test_size=0.33, random_state=42)\n",
    "\n",
    "train_b_cont = ReviewContainer(train)\n",
    "test_b_cont = ReviewContainer(test)\n",
    "\n",
    "train_b_cont.evenly_distribute()\n",
    "test_b_cont.evenly_distribute()\n",
    "\n",
    "print('Training split of evenly distributed dataset:', len(train_b_cont.reviews))\n",
    "print('Training split of evenly distributed dataset:', len(test_b_cont.reviews))"
   ]
  },
  {
   "cell_type": "code",
   "execution_count": 9,
   "metadata": {},
   "outputs": [],
   "source": [
    "## Creating x and y varibales for holding the balanced and unbalanced training and testing data set\n",
    "\n",
    "x_unb_train = train_unb_cont.get_text()\n",
    "y_unb_train = train_unb_cont.get_sentiment()\n",
    "x_unb_test = test_unb_cont.get_text()\n",
    "y_unb_test = test_unb_cont.get_sentiment()\n",
    "\n",
    "x_b_train = train_b_cont.get_text()\n",
    "y_b_train = train_b_cont.get_sentiment()\n",
    "x_b_test = test_b_cont.get_text()\n",
    "y_b_test = test_b_cont.get_sentiment()"
   ]
  },
  {
   "cell_type": "markdown",
   "metadata": {},
   "source": [
    "### Bag of words vectorization"
   ]
  },
  {
   "cell_type": "code",
   "execution_count": 10,
   "metadata": {},
   "outputs": [],
   "source": [
    "## using TfidfVectorizer to bag of words\n",
    "\n",
    "vect = TfidfVectorizer()\n",
    "\n",
    "x_unb_train_counts = vect.fit_transform(x_unb_train)\n",
    "x_unb_test_counts = vect.transform(x_unb_test)\n",
    "\n",
    "x_b_train_counts = vect.fit_transform(x_b_train)\n",
    "x_b_test_counts = vect.transform(x_b_test)"
   ]
  },
  {
   "cell_type": "markdown",
   "metadata": {},
   "source": [
    "# Classification Model for Unbalanced Data Set"
   ]
  },
  {
   "cell_type": "markdown",
   "metadata": {},
   "source": [
    "### Support Vector Machine(svm),  Decision Tree, K Nearest Neighbors, Logistic Regression"
   ]
  },
  {
   "cell_type": "code",
   "execution_count": 11,
   "metadata": {},
   "outputs": [
    {
     "data": {
      "text/plain": [
       "LogisticRegression(C=1.0, class_weight=None, dual=False, fit_intercept=True,\n",
       "                   intercept_scaling=1, l1_ratio=None, max_iter=100,\n",
       "                   multi_class='auto', n_jobs=None, penalty='l2',\n",
       "                   random_state=None, solver='lbfgs', tol=0.0001, verbose=0,\n",
       "                   warm_start=False)"
      ]
     },
     "execution_count": 11,
     "metadata": {},
     "output_type": "execute_result"
    }
   ],
   "source": [
    "##fitting the unbalanced data with 4 different classification models\n",
    "\n",
    "from sklearn import svm\n",
    "from sklearn.tree import DecisionTreeClassifier\n",
    "from sklearn.neighbors import KNeighborsClassifier\n",
    "from sklearn.linear_model import LogisticRegression\n",
    "\n",
    "clf_svm = svm.SVC(kernel = 'linear')\n",
    "clf_dec = DecisionTreeClassifier()\n",
    "clf_knn = KNeighborsClassifier()\n",
    "clf_log = LogisticRegression()\n",
    "\n",
    "\n",
    "clf_svm.fit(x_unb_train_counts,y_unb_train)\n",
    "clf_dec.fit(x_unb_train_counts,y_unb_train)\n",
    "clf_knn.fit(x_unb_train_counts,y_unb_train)\n",
    "clf_log.fit(x_unb_train_counts,y_unb_train)"
   ]
  },
  {
   "cell_type": "markdown",
   "metadata": {},
   "source": [
    "# Evaluation of Unbalanced Data Model"
   ]
  },
  {
   "cell_type": "code",
   "execution_count": 12,
   "metadata": {},
   "outputs": [
    {
     "name": "stdout",
     "output_type": "stream",
     "text": [
      "Accuracy of unbalanced SVM Model: 0.88\n",
      "Accuracy of unbalanced Decision Tree Model: 0.79\n",
      "Accuracy of unbalanced KNN Model: 0.85\n",
      "Accuracy of unbalanced Logistic Regression Model: 0.87\n"
     ]
    }
   ],
   "source": [
    "##Accuracy of all the models are more than 80%\n",
    "\n",
    "print(\"Accuracy of unbalanced SVM Model:\",round(clf_svm.score(x_unb_test_counts, y_unb_test),2))\n",
    "print(\"Accuracy of unbalanced Decision Tree Model:\", round(clf_dec.score(x_unb_test_counts, y_unb_test),2))\n",
    "print(\"Accuracy of unbalanced KNN Model:\",round(clf_knn.score(x_unb_test_counts, y_unb_test),2))\n",
    "print(\"Accuracy of unbalanced Logistic Regression Model:\",round(clf_log.score(x_unb_test_counts, y_unb_test),2))"
   ]
  },
  {
   "cell_type": "code",
   "execution_count": 13,
   "metadata": {},
   "outputs": [
    {
     "name": "stdout",
     "output_type": "stream",
     "text": [
      "f1 Score of unbalanced SVM: [0.93479753 0.50777202]\n",
      "f1 Score of unbalanced Decision Tree: [0.87585709 0.34971645]\n",
      "f1 Score of unbalancedd KNN: [0.91436324 0.28165007]\n",
      "f1 Score of unbalanced Logistic regression: [0.92626961 0.35066865]\n"
     ]
    }
   ],
   "source": [
    "##The low f1score of negatvie values indicate that, the training dataset contains more number of positive values than negative values\n",
    "\n",
    "print(\"f1 Score of unbalanced SVM:\",f1_score(y_unb_test, clf_svm.predict(x_unb_test_counts), average = None, labels = [Sentiment.POSITIVE, Sentiment.NEGATIVE]))\n",
    "print(\"f1 Score of unbalanced Decision Tree:\",f1_score(y_unb_test, clf_dec.predict(x_unb_test_counts), average = None, labels = [Sentiment.POSITIVE, Sentiment.NEGATIVE]))\n",
    "print(\"f1 Score of unbalancedd KNN:\",f1_score(y_unb_test, clf_knn.predict(x_unb_test_counts), average = None, labels = [Sentiment.POSITIVE, Sentiment.NEGATIVE]))\n",
    "print(\"f1 Score of unbalanced Logistic regression:\",f1_score(y_unb_test, clf_log.predict(x_unb_test_counts), average = None, labels = [Sentiment.POSITIVE, Sentiment.NEGATIVE]))"
   ]
  },
  {
   "cell_type": "code",
   "execution_count": 14,
   "metadata": {},
   "outputs": [],
   "source": [
    "##creating probability score for plotting recall vs precision graph\n",
    "\n",
    "y_unb_pred_svm = clf_svm.decision_function(x_unb_test_counts)\n",
    "y_unb_pred_dec = clf_dec.predict_proba(x_unb_test_counts)\n",
    "y_unb_pred_knn = clf_knn.predict_proba(x_unb_test_counts)\n",
    "y_unb_pred_logistic = clf_log.decision_function(x_unb_test_counts)"
   ]
  },
  {
   "cell_type": "code",
   "execution_count": 15,
   "metadata": {},
   "outputs": [],
   "source": [
    "from sklearn.preprocessing import LabelBinarizer\n",
    "\n",
    "lb = LabelBinarizer()\n",
    "\n",
    "unb_test = lb.fit_transform(y_unb_test)"
   ]
  },
  {
   "cell_type": "code",
   "execution_count": 16,
   "metadata": {},
   "outputs": [
    {
     "data": {
      "image/png": "[encoded data removed]",
      "text/plain": [
       "<Figure size 1000x1000 with 1 Axes>"
      ]
     },
     "metadata": {
      "needs_background": "light"
     },
     "output_type": "display_data"
    }
   ],
   "source": [
    "from sklearn.metrics import precision_recall_curve\n",
    "\n",
    "lr_precision, lr_recall, _ = precision_recall_curve(unb_test, y_unb_pred_logistic)\n",
    "\n",
    "svm_precision, svm_recall, _ = precision_recall_curve(unb_test, y_unb_pred_svm)\n",
    "\n",
    "dec_precision, dec_recall, _ = precision_recall_curve(unb_test, y_unb_pred_dec[:,1])\n",
    "\n",
    "knn_precision, knn_recall, _ = precision_recall_curve(unb_test, y_unb_pred_knn[:,1])\n",
    "\n",
    "\n",
    "plt.figure(figsize=(10, 10), dpi=100)\n",
    "plt.title('Precision Recall curve for the four fitted models with unbalanced data')\n",
    "plt.plot(lr_recall, lr_precision, marker='.', label='Logistic')\n",
    "plt.plot(svm_recall, svm_precision, marker=' ', label='SVM')\n",
    "plt.plot(knn_recall,knn_precision, marker='.', label='KNN')\n",
    "plt.plot(dec_recall, dec_precision, marker='.', label='Decision Tree')\n",
    "\n",
    "\n",
    "plt.xlabel('Recall')\n",
    "plt.ylabel('Precision')\n",
    "\n",
    "plt.legend()\n",
    "\n",
    "plt.show()"
   ]
  },
  {
   "cell_type": "markdown",
   "metadata": {},
   "source": [
    "##### Conclusion 1: From above shown analysis, we can understand that the number of positives are much higher compared to Negatives in the dataset. Due to which the model is prone to predict 'False positives'.\n",
    "##### So, there is need for improving model by balancing the dataset, where postiives to negative instances should be in the ratio of 1:1"
   ]
  },
  {
   "cell_type": "markdown",
   "metadata": {},
   "source": [
    "# Classification Model for Balanced Data Set"
   ]
  },
  {
   "cell_type": "markdown",
   "metadata": {},
   "source": [
    "### Support Vector Machine(svm),  Decision Tree, K Nearest Neighbors, Logistic Regression"
   ]
  },
  {
   "cell_type": "code",
   "execution_count": 17,
   "metadata": {},
   "outputs": [
    {
     "data": {
      "text/plain": [
       "LogisticRegression(C=1.0, class_weight=None, dual=False, fit_intercept=True,\n",
       "                   intercept_scaling=1, l1_ratio=None, max_iter=100,\n",
       "                   multi_class='auto', n_jobs=None, penalty='l2',\n",
       "                   random_state=None, solver='lbfgs', tol=0.0001, verbose=0,\n",
       "                   warm_start=False)"
      ]
     },
     "execution_count": 17,
     "metadata": {},
     "output_type": "execute_result"
    }
   ],
   "source": [
    "##fitting the balanced data with 4 different classification models\n",
    "\n",
    "from sklearn import svm\n",
    "from sklearn.tree import DecisionTreeClassifier\n",
    "from sklearn.neighbors import KNeighborsClassifier\n",
    "from sklearn.linear_model import LogisticRegression\n",
    "\n",
    "clf_svm = svm.SVC(kernel = 'linear')\n",
    "clf_dec = DecisionTreeClassifier()\n",
    "clf_knn = KNeighborsClassifier()\n",
    "clf_log = LogisticRegression()\n",
    "\n",
    "\n",
    "clf_svm.fit(x_b_train_counts,y_b_train)\n",
    "clf_dec.fit(x_b_train_counts,y_b_train)\n",
    "clf_knn.fit(x_b_train_counts,y_b_train)\n",
    "clf_log.fit(x_b_train_counts,y_b_train)"
   ]
  },
  {
   "cell_type": "markdown",
   "metadata": {},
   "source": [
    "# Evaluation of Balanced Data Model"
   ]
  },
  {
   "cell_type": "code",
   "execution_count": 18,
   "metadata": {},
   "outputs": [
    {
     "name": "stdout",
     "output_type": "stream",
     "text": [
      "Accuracy of balanced SVM Model: 0.79\n",
      "Accuracy of balanced Decision Tree Model: 0.62\n",
      "Accuracy of balanced KNN Model: 0.68\n",
      "Accuracy of balanced Logistic Regression Model: 0.79\n"
     ]
    }
   ],
   "source": [
    "##the accuracy value of the balanced classfication model got reduced\n",
    "\n",
    "print(\"Accuracy of balanced SVM Model:\",round(clf_svm.score(x_b_test_counts, y_b_test),2))\n",
    "print(\"Accuracy of balanced Decision Tree Model:\", round(clf_dec.score(x_b_test_counts, y_b_test),2))\n",
    "print(\"Accuracy of balanced KNN Model:\",round(clf_knn.score(x_b_test_counts, y_b_test),2))\n",
    "print(\"Accuracy of balanced Logistic Regression Model:\",round(clf_log.score(x_b_test_counts, y_b_test),2))"
   ]
  },
  {
   "cell_type": "code",
   "execution_count": 19,
   "metadata": {
    "scrolled": true
   },
   "outputs": [
    {
     "name": "stdout",
     "output_type": "stream",
     "text": [
      "f1 Score of unbalanced SVM: [0.78632479 0.79147359]\n",
      "f1 Score of unbalanced Decision Tree: [0.61026616 0.62037037]\n",
      "f1 Score of unbalancedd KNN: [0.66138614 0.69518717]\n",
      "f1 Score of unbalanced Logistic regression: [0.79135338 0.79213483]\n"
     ]
    }
   ],
   "source": [
    "##unlike the accuracy score, the f1 score is now evenly distributed.The true positives and true negatives has good precision and recall.\n",
    "\n",
    "print(\"f1 Score of unbalanced SVM:\",f1_score(y_b_test, clf_svm.predict(x_b_test_counts), average = None, labels = [Sentiment.POSITIVE, Sentiment.NEGATIVE]))\n",
    "print(\"f1 Score of unbalanced Decision Tree:\",f1_score(y_b_test, clf_dec.predict(x_b_test_counts), average = None, labels = [Sentiment.POSITIVE, Sentiment.NEGATIVE]))\n",
    "print(\"f1 Score of unbalancedd KNN:\",f1_score(y_b_test, clf_knn.predict(x_b_test_counts), average = None, labels = [Sentiment.POSITIVE, Sentiment.NEGATIVE]))\n",
    "print(\"f1 Score of unbalanced Logistic regression:\",f1_score(y_b_test, clf_log.predict(x_b_test_counts), average = None, labels = [Sentiment.POSITIVE, Sentiment.NEGATIVE]))"
   ]
  },
  {
   "cell_type": "code",
   "execution_count": 20,
   "metadata": {},
   "outputs": [],
   "source": [
    "##finding prediction probability values for each model\n",
    "y_pred_svm = clf_svm.decision_function(x_b_test_counts)\n",
    "y_pred_dec = clf_dec.predict_proba(x_b_test_counts)\n",
    "y_pred_knn = clf_knn.predict_proba(x_b_test_counts)\n",
    "y_pred_logistic = clf_log.decision_function(x_b_test_counts)"
   ]
  },
  {
   "cell_type": "code",
   "execution_count": 21,
   "metadata": {},
   "outputs": [],
   "source": [
    "##converting 'Positive' to '1' and 'Negative' to '0'\n",
    "\n",
    "from sklearn.preprocessing import LabelBinarizer\n",
    "\n",
    "lb = LabelBinarizer()\n",
    "\n",
    "b_test = lb.fit_transform(y_b_test)"
   ]
  },
  {
   "cell_type": "code",
   "execution_count": 22,
   "metadata": {},
   "outputs": [
    {
     "data": {
      "image/png": "[encoded data removed]",
      "text/plain": [
       "<Figure size 1000x1000 with 1 Axes>"
      ]
     },
     "metadata": {
      "needs_background": "light"
     },
     "output_type": "display_data"
    }
   ],
   "source": [
    "##plotting ROC curve for 4 models\n",
    "\n",
    "from sklearn.metrics import roc_curve, auc\n",
    "\n",
    "logistic_fpr, logistic_tpr, threshold = roc_curve(b_test,y_pred_logistic)\n",
    "auc_logistic = auc(logistic_fpr, logistic_tpr)\n",
    "\n",
    "svm_fpr, svm_tpr, threshold = roc_curve(b_test,y_pred_svm)\n",
    "auc_svm = auc(svm_fpr, svm_tpr)\n",
    "\n",
    "dec_fpr, dec_tpr, threshold = roc_curve(b_test,y_pred_dec[:,1])\n",
    "auc_dec = auc(dec_fpr, dec_tpr)\n",
    "\n",
    "knn_fpr, knn_tpr, threshold = roc_curve(b_test,y_pred_knn[:,1])\n",
    "auc_knn = auc(knn_fpr, knn_tpr)\n",
    "\n",
    "plt.figure(figsize=(10, 10), dpi=100)\n",
    "plt.title('ROC curve for the four fitted models with balanced data')\n",
    "plt.plot(svm_fpr, svm_tpr, linestyle='-', label='SVM (auc = %0.3f)' % auc_svm)\n",
    "plt.plot(logistic_fpr, logistic_tpr, marker='.', label='Logistic (auc = %0.3f)' % auc_logistic)\n",
    "plt.plot(knn_fpr, knn_tpr, marker='*', label='KNN (auc = %0.3f)' % auc_knn)\n",
    "plt.plot(dec_fpr, dec_tpr, marker='+', label='Decision Tree (auc = %0.3f)' % auc_dec)\n",
    "\n",
    "\n",
    "plt.xlabel('False Positive Rate -->')\n",
    "plt.ylabel('True Positive Rate -->')\n",
    "\n",
    "plt.legend()\n",
    "\n",
    "plt.show()"
   ]
  },
  {
   "cell_type": "markdown",
   "metadata": {},
   "source": [
    "# Hyperparameter Tuning - Grid Search"
   ]
  },
  {
   "cell_type": "code",
   "execution_count": 23,
   "metadata": {},
   "outputs": [
    {
     "data": {
      "text/plain": [
       "GridSearchCV(cv=5, error_score=nan,\n",
       "             estimator=SVC(C=1.0, break_ties=False, cache_size=200,\n",
       "                           class_weight=None, coef0=0.0,\n",
       "                           decision_function_shape='ovr', degree=3,\n",
       "                           gamma='scale', kernel='rbf', max_iter=-1,\n",
       "                           probability=False, random_state=None, shrinking=True,\n",
       "                           tol=0.001, verbose=False),\n",
       "             iid='deprecated', n_jobs=None,\n",
       "             param_grid={'C': (1, 4, 8, 16, 32), 'kernel': ('linear', 'rbf')},\n",
       "             pre_dispatch='2*n_jobs', refit=True, return_train_score=False,\n",
       "             scoring=None, verbose=0)"
      ]
     },
     "execution_count": 23,
     "metadata": {},
     "output_type": "execute_result"
    }
   ],
   "source": [
    "##finding the best SVM model with GridSeach method \n",
    "\n",
    "from sklearn.model_selection import GridSearchCV\n",
    "\n",
    "parameters = {'kernel': ('linear', 'rbf'), 'C': (1,4,8,16,32)}\n",
    "\n",
    "svc = svm.SVC()\n",
    "clf = GridSearchCV(svc, parameters, cv=5)\n",
    "clf.fit(x_b_train_counts,y_b_train)"
   ]
  },
  {
   "cell_type": "code",
   "execution_count": 24,
   "metadata": {},
   "outputs": [
    {
     "name": "stdout",
     "output_type": "stream",
     "text": [
      "0.798311444652908\n"
     ]
    }
   ],
   "source": [
    "print(clf.score(x_b_test_counts, y_b_test))\n",
    "\n",
    "##the maximum precision that can be obtained from svm model is 79.8% "
   ]
  },
  {
   "cell_type": "markdown",
   "metadata": {},
   "source": [
    "# Saving Model"
   ]
  },
  {
   "cell_type": "code",
   "execution_count": 27,
   "metadata": {},
   "outputs": [],
   "source": [
    "import pickle\n",
    "with open('sentiment_analysis_amazon_reviews.pickle','wb') as f:\n",
    "    pickle.dump(clf,f)"
   ]
  },
  {
   "cell_type": "markdown",
   "metadata": {},
   "source": [
    "# Loading Model"
   ]
  },
  {
   "cell_type": "code",
   "execution_count": 115,
   "metadata": {},
   "outputs": [],
   "source": [
    "with open('sentiment_analysis_amazon_reviews.pickle', 'rb') as f:\n",
    "    loaded_clf = pickle.load(f)"
   ]
  },
  {
   "cell_type": "markdown",
   "metadata": {},
   "source": [
    "# Testing Model with new data"
   ]
  },
  {
   "cell_type": "code",
   "execution_count": 31,
   "metadata": {},
   "outputs": [
    {
     "data": {
      "text/plain": [
       "array(['POSITIVE', 'NEGATIVE', 'NEGATIVE'], dtype='<U8')"
      ]
     },
     "execution_count": 31,
     "metadata": {},
     "output_type": "execute_result"
    }
   ],
   "source": [
    "test_set = ['very fun', \"bad book do not buy\", 'horrible waste of time','This book is ']\n",
    "new_test = vect.transform(test_set)\n",
    "\n",
    "loaded_clf.predict(new_test)"
   ]
  },
  {
   "cell_type": "code",
   "execution_count": 133,
   "metadata": {},
   "outputs": [],
   "source": [
    "new_data = pd.read_csv('Reviews.csv',encoding='mac_roman')"
   ]
  },
  {
   "cell_type": "code",
   "execution_count": 134,
   "metadata": {},
   "outputs": [
    {
     "data": {
      "text/plain": [
       "(999, 1)"
      ]
     },
     "execution_count": 134,
     "metadata": {},
     "output_type": "execute_result"
    }
   ],
   "source": [
    "new_data.shape"
   ]
  },
  {
   "cell_type": "code",
   "execution_count": 96,
   "metadata": {},
   "outputs": [
    {
     "data": {
      "text/plain": [
       "0    Good. It IS a page turner. You can read this b...\n",
       "1    There are no words for how much I loathed this...\n",
       "2    I think I would ordinarily cut this book more ...\n",
       "3    Three disjointed characters for whom it's hard...\n",
       "4    Was snookered into this novel as it was compar...\n",
       "Name: ReviewContent, dtype: object"
      ]
     },
     "execution_count": 96,
     "metadata": {},
     "output_type": "execute_result"
    }
   ],
   "source": [
    "new_data.ReviewContent.head()"
   ]
  },
  {
   "cell_type": "code",
   "execution_count": 159,
   "metadata": {},
   "outputs": [],
   "source": [
    "new_test = vect.transform(new_data.ReviewContent)\n",
    "\n",
    "result = loaded_clf.predict(new_test)"
   ]
  },
  {
   "cell_type": "code",
   "execution_count": 166,
   "metadata": {},
   "outputs": [
    {
     "name": "stdout",
     "output_type": "stream",
     "text": [
      "A good read.  I enjoyed it. POSITIVE\n",
      "Interesting but one of those books where you want to choke the main character. NEGATIVE\n",
      "\"My mother used to tell me that I had an overactive imagination...\"And with that, Rachel the narrator certainly becomes one of the most unreliable narrators I've ever had the pleasure of reading. There are actually several points of view in 'The Girl on the Train' but Rachel is the main narrator. A sad sack of a woman, she has been recently divorced, fired from her job in London and is losing a nasty battle with the bottle. Because she is often drunk, nothing she says or recalls is trustworthy.I needed a break from my usual contemporary romances and this thriller kept me glued to my Kindle! Rachel sees a \"prefect couple\" from the train every day, and she concocts an elaborate fantasy life for them. Surely they must live a perfect life! Unlike her, they seem to live a charmed life, sitting in their pretty garden every day, sipping coffee together.\"I donít know their names, either, so I had to name them myself. Jason, because heís handsome in a British film star kind of way, not a Depp or a Pitt, but a Firth, or a Jason Isaacs. And Jess just goes with Jason, and it goes with her. It fits her, pretty and carefree as she is. Theyíre a match, theyíre a set. Theyíre happy, I can tell. Theyíre what I used to be, theyíre Tom and me five years ago. Theyíre what I lost, theyíre everything I want to be.\"Slowly we realize that in fact NOTHING in this book is as it seems, and Rachel is soon drawn into a frightening situation about which, sadly for her, she has no memory. On top of everything else, Rachel is constantly morose and sad, depressed about the loss of her beloved husband Tom, and begins to drive everyone away who ever cared about her.\"Beautiful sunshine, cloudless skies, no one to play with, nothing to do. Living like this, the way Iím living at the moment, is harder in the summer when there is so much daylight, so little cover of darkness, when everyone is out and about, being flagrantly, aggressively happy. Itís exhausting, and it makes you feel bad if youíre not joining in.\"Rachel drinks so much that she begins to black out. She stalks her ex-husband and his new wife Anna but just can't seem to stop herself.\"I have lost control over everything, even the places in my head.\"This book takes many twists and turns and nothing at all is at it seems. Just when I thought I knew where the story was going, it veered off into another place entirely. it is smart, perfectly paced and filled with flawed, all-too-human characters. Even though Rachel is COMPLETELY unlikable, I was cheering for her throughout the book.'The Girl on the Train' is smart, clever and surprising. Glad I read it before I saw the movie. Highly recommend!! POSITIVE\n",
      "I was not fond of this book because the characters were all such awful people. One after another, they were so messed up.  The book was redundant, yeah, we know Rachel is a boring drunk, we know Megan is a loser.  Both men are horrible!  I can't believe I finished the book. No surprises, since we already knew Megan was having an affair.  Duh.I know we all have our flaws, but I truly have never met anyone like these people.  Maybe I'm just lucky, or don't live in the bottom of a barrel. NEGATIVE\n",
      "I read this book in a couple of days and enjoyed it.  I thought it was well written and I liked how each chapter was from a different character's point of view.  None of the characters were that likable, but then, who is?  :)But seriously, the main character was weak and did some pretty foolish things.  However, this made her interesting and you never knew what she was going to do next.  I do wish that she'd ended up being stronger after all she'd gone through, but she was still running away from things and afraid in the end.  I'd recommend this book as a fun, suspenseful and easy read. POSITIVE\n",
      "This was the most boring book I have ever read. According to my Kindle I managed 32% before I gave up. The character was lifeless, the story was lifeless and just meandered along at a snails pace. The premise was totally unbelievable unless the train moved at the same speed as the snail. No dialogue just endless narrative of something. Completely unreadable. NEGATIVE\n"
     ]
    }
   ],
   "source": [
    "print(new_data.ReviewContent[544],result[544])\n",
    "print(new_data.ReviewContent[227],result[227])\n",
    "print(new_data.ReviewContent[104],result[104])\n",
    "print(new_data.ReviewContent[742],result[742])\n",
    "print(new_data.ReviewContent[897],result[897])\n",
    "print(new_data.ReviewContent[6],result[6])"
   ]
  },
  {
   "cell_type": "code",
   "execution_count": 127,
   "metadata": {},
   "outputs": [
    {
     "data": {
      "text/html": [
       "<div>\n",
       "<style scoped>\n",
       "    .dataframe tbody tr th:only-of-type {\n",
       "        vertical-align: middle;\n",
       "    }\n",
       "\n",
       "    .dataframe tbody tr th {\n",
       "        vertical-align: top;\n",
       "    }\n",
       "\n",
       "    .dataframe thead th {\n",
       "        text-align: right;\n",
       "    }\n",
       "</style>\n",
       "<table border=\"1\" class=\"dataframe\">\n",
       "  <thead>\n",
       "    <tr style=\"text-align: right;\">\n",
       "      <th></th>\n",
       "      <th>result</th>\n",
       "    </tr>\n",
       "  </thead>\n",
       "  <tbody>\n",
       "    <tr>\n",
       "      <th>0</th>\n",
       "      <td>POSITIVE</td>\n",
       "    </tr>\n",
       "    <tr>\n",
       "      <th>1</th>\n",
       "      <td>NEGATIVE</td>\n",
       "    </tr>\n",
       "    <tr>\n",
       "      <th>2</th>\n",
       "      <td>NEGATIVE</td>\n",
       "    </tr>\n",
       "    <tr>\n",
       "      <th>3</th>\n",
       "      <td>NEGATIVE</td>\n",
       "    </tr>\n",
       "    <tr>\n",
       "      <th>4</th>\n",
       "      <td>NEGATIVE</td>\n",
       "    </tr>\n",
       "    <tr>\n",
       "      <th>...</th>\n",
       "      <td>...</td>\n",
       "    </tr>\n",
       "    <tr>\n",
       "      <th>994</th>\n",
       "      <td>NEGATIVE</td>\n",
       "    </tr>\n",
       "    <tr>\n",
       "      <th>995</th>\n",
       "      <td>POSITIVE</td>\n",
       "    </tr>\n",
       "    <tr>\n",
       "      <th>996</th>\n",
       "      <td>POSITIVE</td>\n",
       "    </tr>\n",
       "    <tr>\n",
       "      <th>997</th>\n",
       "      <td>NEGATIVE</td>\n",
       "    </tr>\n",
       "    <tr>\n",
       "      <th>998</th>\n",
       "      <td>NEGATIVE</td>\n",
       "    </tr>\n",
       "  </tbody>\n",
       "</table>\n",
       "<p>999 rows × 1 columns</p>\n",
       "</div>"
      ],
      "text/plain": [
       "       result\n",
       "0    POSITIVE\n",
       "1    NEGATIVE\n",
       "2    NEGATIVE\n",
       "3    NEGATIVE\n",
       "4    NEGATIVE\n",
       "..        ...\n",
       "994  NEGATIVE\n",
       "995  POSITIVE\n",
       "996  POSITIVE\n",
       "997  NEGATIVE\n",
       "998  NEGATIVE\n",
       "\n",
       "[999 rows x 1 columns]"
      ]
     },
     "execution_count": 127,
     "metadata": {},
     "output_type": "execute_result"
    }
   ],
   "source": [
    "result"
   ]
  },
  {
   "cell_type": "code",
   "execution_count": 139,
   "metadata": {},
   "outputs": [
    {
     "data": {
      "text/html": [
       "<div>\n",
       "<style scoped>\n",
       "    .dataframe tbody tr th:only-of-type {\n",
       "        vertical-align: middle;\n",
       "    }\n",
       "\n",
       "    .dataframe tbody tr th {\n",
       "        vertical-align: top;\n",
       "    }\n",
       "\n",
       "    .dataframe thead th {\n",
       "        text-align: right;\n",
       "    }\n",
       "</style>\n",
       "<table border=\"1\" class=\"dataframe\">\n",
       "  <thead>\n",
       "    <tr style=\"text-align: right;\">\n",
       "      <th></th>\n",
       "      <th>ReviewContent</th>\n",
       "    </tr>\n",
       "  </thead>\n",
       "  <tbody>\n",
       "    <tr>\n",
       "      <th>0</th>\n",
       "      <td>Good. It IS a page turner. You can read this b...</td>\n",
       "    </tr>\n",
       "    <tr>\n",
       "      <th>1</th>\n",
       "      <td>There are no words for how much I loathed this...</td>\n",
       "    </tr>\n",
       "    <tr>\n",
       "      <th>2</th>\n",
       "      <td>I think I would ordinarily cut this book more ...</td>\n",
       "    </tr>\n",
       "    <tr>\n",
       "      <th>3</th>\n",
       "      <td>Three disjointed characters for whom it's hard...</td>\n",
       "    </tr>\n",
       "    <tr>\n",
       "      <th>4</th>\n",
       "      <td>Was snookered into this novel as it was compar...</td>\n",
       "    </tr>\n",
       "    <tr>\n",
       "      <th>...</th>\n",
       "      <td>...</td>\n",
       "    </tr>\n",
       "    <tr>\n",
       "      <th>994</th>\n",
       "      <td>Very slow read.Too much repetition. Disappointed</td>\n",
       "    </tr>\n",
       "    <tr>\n",
       "      <th>995</th>\n",
       "      <td>I don't think this book is worth all the hype....</td>\n",
       "    </tr>\n",
       "    <tr>\n",
       "      <th>996</th>\n",
       "      <td>I've read other excellent reviewers who found ...</td>\n",
       "    </tr>\n",
       "    <tr>\n",
       "      <th>997</th>\n",
       "      <td>I saw this novel on the best seller list so I ...</td>\n",
       "    </tr>\n",
       "    <tr>\n",
       "      <th>998</th>\n",
       "      <td>I didn't like the \"first person\" writing style...</td>\n",
       "    </tr>\n",
       "  </tbody>\n",
       "</table>\n",
       "<p>999 rows × 1 columns</p>\n",
       "</div>"
      ],
      "text/plain": [
       "                                         ReviewContent\n",
       "0    Good. It IS a page turner. You can read this b...\n",
       "1    There are no words for how much I loathed this...\n",
       "2    I think I would ordinarily cut this book more ...\n",
       "3    Three disjointed characters for whom it's hard...\n",
       "4    Was snookered into this novel as it was compar...\n",
       "..                                                 ...\n",
       "994   Very slow read.Too much repetition. Disappointed\n",
       "995  I don't think this book is worth all the hype....\n",
       "996  I've read other excellent reviewers who found ...\n",
       "997  I saw this novel on the best seller list so I ...\n",
       "998  I didn't like the \"first person\" writing style...\n",
       "\n",
       "[999 rows x 1 columns]"
      ]
     },
     "execution_count": 139,
     "metadata": {},
     "output_type": "execute_result"
    }
   ],
   "source": [
    "new_data"
   ]
  },
  {
   "cell_type": "code",
   "execution_count": 143,
   "metadata": {},
   "outputs": [
    {
     "data": {
      "text/html": [
       "<div>\n",
       "<style scoped>\n",
       "    .dataframe tbody tr th:only-of-type {\n",
       "        vertical-align: middle;\n",
       "    }\n",
       "\n",
       "    .dataframe tbody tr th {\n",
       "        vertical-align: top;\n",
       "    }\n",
       "\n",
       "    .dataframe thead th {\n",
       "        text-align: right;\n",
       "    }\n",
       "</style>\n",
       "<table border=\"1\" class=\"dataframe\">\n",
       "  <thead>\n",
       "    <tr style=\"text-align: right;\">\n",
       "      <th></th>\n",
       "      <th>ReviewContent</th>\n",
       "      <th>Result</th>\n",
       "    </tr>\n",
       "  </thead>\n",
       "  <tbody>\n",
       "    <tr>\n",
       "      <th>0</th>\n",
       "      <td>Good. It IS a page turner. You can read this b...</td>\n",
       "      <td>POSITIVE</td>\n",
       "    </tr>\n",
       "    <tr>\n",
       "      <th>1</th>\n",
       "      <td>There are no words for how much I loathed this...</td>\n",
       "      <td>NEGATIVE</td>\n",
       "    </tr>\n",
       "    <tr>\n",
       "      <th>2</th>\n",
       "      <td>I think I would ordinarily cut this book more ...</td>\n",
       "      <td>NEGATIVE</td>\n",
       "    </tr>\n",
       "    <tr>\n",
       "      <th>3</th>\n",
       "      <td>Three disjointed characters for whom it's hard...</td>\n",
       "      <td>NEGATIVE</td>\n",
       "    </tr>\n",
       "    <tr>\n",
       "      <th>4</th>\n",
       "      <td>Was snookered into this novel as it was compar...</td>\n",
       "      <td>NEGATIVE</td>\n",
       "    </tr>\n",
       "    <tr>\n",
       "      <th>...</th>\n",
       "      <td>...</td>\n",
       "      <td>...</td>\n",
       "    </tr>\n",
       "    <tr>\n",
       "      <th>994</th>\n",
       "      <td>Very slow read.Too much repetition. Disappointed</td>\n",
       "      <td>NEGATIVE</td>\n",
       "    </tr>\n",
       "    <tr>\n",
       "      <th>995</th>\n",
       "      <td>I don't think this book is worth all the hype....</td>\n",
       "      <td>POSITIVE</td>\n",
       "    </tr>\n",
       "    <tr>\n",
       "      <th>996</th>\n",
       "      <td>I've read other excellent reviewers who found ...</td>\n",
       "      <td>POSITIVE</td>\n",
       "    </tr>\n",
       "    <tr>\n",
       "      <th>997</th>\n",
       "      <td>I saw this novel on the best seller list so I ...</td>\n",
       "      <td>NEGATIVE</td>\n",
       "    </tr>\n",
       "    <tr>\n",
       "      <th>998</th>\n",
       "      <td>I didn't like the \"first person\" writing style...</td>\n",
       "      <td>NEGATIVE</td>\n",
       "    </tr>\n",
       "  </tbody>\n",
       "</table>\n",
       "<p>999 rows × 2 columns</p>\n",
       "</div>"
      ],
      "text/plain": [
       "                                         ReviewContent    Result\n",
       "0    Good. It IS a page turner. You can read this b...  POSITIVE\n",
       "1    There are no words for how much I loathed this...  NEGATIVE\n",
       "2    I think I would ordinarily cut this book more ...  NEGATIVE\n",
       "3    Three disjointed characters for whom it's hard...  NEGATIVE\n",
       "4    Was snookered into this novel as it was compar...  NEGATIVE\n",
       "..                                                 ...       ...\n",
       "994   Very slow read.Too much repetition. Disappointed  NEGATIVE\n",
       "995  I don't think this book is worth all the hype....  POSITIVE\n",
       "996  I've read other excellent reviewers who found ...  POSITIVE\n",
       "997  I saw this novel on the best seller list so I ...  NEGATIVE\n",
       "998  I didn't like the \"first person\" writing style...  NEGATIVE\n",
       "\n",
       "[999 rows x 2 columns]"
      ]
     },
     "execution_count": 143,
     "metadata": {},
     "output_type": "execute_result"
    }
   ],
   "source": [
    "result_data = pd.DataFrame({'ReviewContent': new_data.ReviewContent, 'Result': result.result})"
   ]
  },
  {
   "cell_type": "code",
   "execution_count": null,
   "metadata": {},
   "outputs": [],
   "source": []
  }
 ],
 "metadata": {
  "kernelspec": {
   "display_name": "Python 3",
   "language": "python",
   "name": "python3"
  },
  "language_info": {
   "codemirror_mode": {
    "name": "ipython",
    "version": 3
   },
   "file_extension": ".py",
   "mimetype": "text/x-python",
   "name": "python",
   "nbconvert_exporter": "python",
   "pygments_lexer": "ipython3",
   "version": "3.7.6"
  }
 },
 "nbformat": 4,
 "nbformat_minor": 4
}
